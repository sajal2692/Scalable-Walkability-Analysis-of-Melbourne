{
 "cells": [
  {
   "cell_type": "markdown",
   "metadata": {},
   "source": [
    "This notebook analyses and compares and SA1s in Inner Melbourne and Sydney: City and Inner South. The area being analysed for Melbourne is much larger than Sydney, with more SA1s. This is due to the difference in how the SA4s are laid out for both cities. \n",
    "\n",
    "Both areas being analysed encompass the CBDs of the respective cities (though, North Sydney is not considered)."
   ]
  },
  {
   "cell_type": "code",
   "execution_count": 164,
   "metadata": {
    "collapsed": false
   },
   "outputs": [],
   "source": [
    "import numpy as np\n",
    "import pandas as pd\n",
    "from pandas import Series,DataFrame\n",
    "import seaborn as sns\n",
    "\n",
    "%matplotlib inline"
   ]
  },
  {
   "cell_type": "code",
   "execution_count": 165,
   "metadata": {
    "collapsed": false
   },
   "outputs": [],
   "source": [
    "dframe = pd.read_csv('data/innermelbourne.csv')\n",
    "dframe.columns = dframe.columns.str.strip() #To fix formatting issues with headers"
   ]
  },
  {
   "cell_type": "code",
   "execution_count": 166,
   "metadata": {
    "collapsed": false
   },
   "outputs": [],
   "source": [
    "#Dropping columns deemed irrelevant\n",
    "aframe = dframe.drop(['gcc_name11','gcc_code11','sa2_5dig11','sa1_7dig11','sa3_code11','sa4_code11','ste_code11','ste_name11'],axis=1)"
   ]
  },
  {
   "cell_type": "code",
   "execution_count": 167,
   "metadata": {
    "collapsed": false
   },
   "outputs": [],
   "source": [
    "#Group by SA2 suburb\n",
    "avg_sa2 = aframe[['sa2_name11','SumZScore']].groupby('sa2_name11').mean()\n",
    "\n",
    "#Group by SA3 area\n",
    "avg_sa3 = aframe[['sa3_name11','SumZScore']].groupby('sa3_name11').mean()"
   ]
  },
  {
   "cell_type": "markdown",
   "metadata": {},
   "source": [
    "A quick look at the SA2 and SA3 groupings for Melbourne, and the average walkability scores (represented by 'SumZScore')."
   ]
  },
  {
   "cell_type": "code",
   "execution_count": 168,
   "metadata": {
    "collapsed": false
   },
   "outputs": [
    {
     "data": {
      "text/html": [
       "<div>\n",
       "<table border=\"1\" class=\"dataframe\">\n",
       "  <thead>\n",
       "    <tr style=\"text-align: right;\">\n",
       "      <th></th>\n",
       "      <th>SumZScore</th>\n",
       "    </tr>\n",
       "    <tr>\n",
       "      <th>sa3_name11</th>\n",
       "      <th></th>\n",
       "    </tr>\n",
       "  </thead>\n",
       "  <tbody>\n",
       "    <tr>\n",
       "      <th>Brunswick - Coburg</th>\n",
       "      <td>-1.442297</td>\n",
       "    </tr>\n",
       "    <tr>\n",
       "      <th>Darebin - South</th>\n",
       "      <td>-1.705241</td>\n",
       "    </tr>\n",
       "    <tr>\n",
       "      <th>Essendon</th>\n",
       "      <td>-1.501010</td>\n",
       "    </tr>\n",
       "    <tr>\n",
       "      <th>Melbourne City</th>\n",
       "      <td>2.551466</td>\n",
       "    </tr>\n",
       "    <tr>\n",
       "      <th>Port Phillip</th>\n",
       "      <td>0.256828</td>\n",
       "    </tr>\n",
       "    <tr>\n",
       "      <th>Stonnington - West</th>\n",
       "      <td>0.053694</td>\n",
       "    </tr>\n",
       "    <tr>\n",
       "      <th>Yarra</th>\n",
       "      <td>0.446783</td>\n",
       "    </tr>\n",
       "  </tbody>\n",
       "</table>\n",
       "</div>"
      ],
      "text/plain": [
       "                    SumZScore\n",
       "sa3_name11                   \n",
       "Brunswick - Coburg  -1.442297\n",
       "Darebin - South     -1.705241\n",
       "Essendon            -1.501010\n",
       "Melbourne City       2.551466\n",
       "Port Phillip         0.256828\n",
       "Stonnington - West   0.053694\n",
       "Yarra                0.446783"
      ]
     },
     "execution_count": 168,
     "metadata": {},
     "output_type": "execute_result"
    }
   ],
   "source": [
    "avg_sa3"
   ]
  },
  {
   "cell_type": "code",
   "execution_count": 169,
   "metadata": {
    "collapsed": false
   },
   "outputs": [
    {
     "data": {
      "text/html": [
       "<div>\n",
       "<table border=\"1\" class=\"dataframe\">\n",
       "  <thead>\n",
       "    <tr style=\"text-align: right;\">\n",
       "      <th></th>\n",
       "      <th>SumZScore</th>\n",
       "    </tr>\n",
       "    <tr>\n",
       "      <th>sa2_name11</th>\n",
       "      <th></th>\n",
       "    </tr>\n",
       "  </thead>\n",
       "  <tbody>\n",
       "    <tr>\n",
       "      <th>Abbotsford</th>\n",
       "      <td>0.847583</td>\n",
       "    </tr>\n",
       "    <tr>\n",
       "      <th>Albert Park</th>\n",
       "      <td>0.425471</td>\n",
       "    </tr>\n",
       "    <tr>\n",
       "      <th>Alphington - Fairfield</th>\n",
       "      <td>-2.055192</td>\n",
       "    </tr>\n",
       "    <tr>\n",
       "      <th>Armadale</th>\n",
       "      <td>-1.016522</td>\n",
       "    </tr>\n",
       "    <tr>\n",
       "      <th>Ascot Vale</th>\n",
       "      <td>-1.463378</td>\n",
       "    </tr>\n",
       "    <tr>\n",
       "      <th>Brunswick</th>\n",
       "      <td>-0.680594</td>\n",
       "    </tr>\n",
       "    <tr>\n",
       "      <th>Brunswick East</th>\n",
       "      <td>-0.417797</td>\n",
       "    </tr>\n",
       "    <tr>\n",
       "      <th>Brunswick West</th>\n",
       "      <td>-1.725236</td>\n",
       "    </tr>\n",
       "    <tr>\n",
       "      <th>Carlton</th>\n",
       "      <td>2.698953</td>\n",
       "    </tr>\n",
       "    <tr>\n",
       "      <th>Carlton North - Princes Hill</th>\n",
       "      <td>-0.955973</td>\n",
       "    </tr>\n",
       "    <tr>\n",
       "      <th>Coburg</th>\n",
       "      <td>-1.852370</td>\n",
       "    </tr>\n",
       "    <tr>\n",
       "      <th>Collingwood</th>\n",
       "      <td>1.015557</td>\n",
       "    </tr>\n",
       "    <tr>\n",
       "      <th>Docklands</th>\n",
       "      <td>1.168116</td>\n",
       "    </tr>\n",
       "    <tr>\n",
       "      <th>East Melbourne</th>\n",
       "      <td>0.954821</td>\n",
       "    </tr>\n",
       "    <tr>\n",
       "      <th>Elwood</th>\n",
       "      <td>-0.626253</td>\n",
       "    </tr>\n",
       "    <tr>\n",
       "      <th>Essendon - Aberfeldie</th>\n",
       "      <td>-2.004841</td>\n",
       "    </tr>\n",
       "    <tr>\n",
       "      <th>Fitzroy</th>\n",
       "      <td>1.344740</td>\n",
       "    </tr>\n",
       "    <tr>\n",
       "      <th>Fitzroy North</th>\n",
       "      <td>0.204232</td>\n",
       "    </tr>\n",
       "    <tr>\n",
       "      <th>Flemington</th>\n",
       "      <td>-0.136415</td>\n",
       "    </tr>\n",
       "    <tr>\n",
       "      <th>Kensington</th>\n",
       "      <td>1.062515</td>\n",
       "    </tr>\n",
       "    <tr>\n",
       "      <th>Melbourne</th>\n",
       "      <td>3.547425</td>\n",
       "    </tr>\n",
       "    <tr>\n",
       "      <th>Moonee Ponds</th>\n",
       "      <td>-1.473731</td>\n",
       "    </tr>\n",
       "    <tr>\n",
       "      <th>North Melbourne</th>\n",
       "      <td>1.697015</td>\n",
       "    </tr>\n",
       "    <tr>\n",
       "      <th>Northcote</th>\n",
       "      <td>-1.240260</td>\n",
       "    </tr>\n",
       "    <tr>\n",
       "      <th>Parkville</th>\n",
       "      <td>0.655882</td>\n",
       "    </tr>\n",
       "    <tr>\n",
       "      <th>Pascoe Vale South</th>\n",
       "      <td>-2.406909</td>\n",
       "    </tr>\n",
       "    <tr>\n",
       "      <th>Port Melbourne</th>\n",
       "      <td>0.927201</td>\n",
       "    </tr>\n",
       "    <tr>\n",
       "      <th>Port Melbourne Industrial</th>\n",
       "      <td>-1.290091</td>\n",
       "    </tr>\n",
       "    <tr>\n",
       "      <th>Prahran - Windsor</th>\n",
       "      <td>1.201360</td>\n",
       "    </tr>\n",
       "    <tr>\n",
       "      <th>Richmond (Vic.)</th>\n",
       "      <td>0.836230</td>\n",
       "    </tr>\n",
       "    <tr>\n",
       "      <th>South Melbourne</th>\n",
       "      <td>1.838322</td>\n",
       "    </tr>\n",
       "    <tr>\n",
       "      <th>South Yarra - East</th>\n",
       "      <td>1.249292</td>\n",
       "    </tr>\n",
       "    <tr>\n",
       "      <th>South Yarra - West</th>\n",
       "      <td>0.823606</td>\n",
       "    </tr>\n",
       "    <tr>\n",
       "      <th>Southbank</th>\n",
       "      <td>6.816946</td>\n",
       "    </tr>\n",
       "    <tr>\n",
       "      <th>St Kilda</th>\n",
       "      <td>0.652861</td>\n",
       "    </tr>\n",
       "    <tr>\n",
       "      <th>St Kilda East</th>\n",
       "      <td>-1.086723</td>\n",
       "    </tr>\n",
       "    <tr>\n",
       "      <th>Thornbury</th>\n",
       "      <td>-2.108694</td>\n",
       "    </tr>\n",
       "    <tr>\n",
       "      <th>Toorak</th>\n",
       "      <td>-1.939547</td>\n",
       "    </tr>\n",
       "    <tr>\n",
       "      <th>Yarra - North</th>\n",
       "      <td>-0.451671</td>\n",
       "    </tr>\n",
       "  </tbody>\n",
       "</table>\n",
       "</div>"
      ],
      "text/plain": [
       "                              SumZScore\n",
       "sa2_name11                             \n",
       "Abbotsford                     0.847583\n",
       "Albert Park                    0.425471\n",
       "Alphington - Fairfield        -2.055192\n",
       "Armadale                      -1.016522\n",
       "Ascot Vale                    -1.463378\n",
       "Brunswick                     -0.680594\n",
       "Brunswick East                -0.417797\n",
       "Brunswick West                -1.725236\n",
       "Carlton                        2.698953\n",
       "Carlton North - Princes Hill  -0.955973\n",
       "Coburg                        -1.852370\n",
       "Collingwood                    1.015557\n",
       "Docklands                      1.168116\n",
       "East Melbourne                 0.954821\n",
       "Elwood                        -0.626253\n",
       "Essendon - Aberfeldie         -2.004841\n",
       "Fitzroy                        1.344740\n",
       "Fitzroy North                  0.204232\n",
       "Flemington                    -0.136415\n",
       "Kensington                     1.062515\n",
       "Melbourne                      3.547425\n",
       "Moonee Ponds                  -1.473731\n",
       "North Melbourne                1.697015\n",
       "Northcote                     -1.240260\n",
       "Parkville                      0.655882\n",
       "Pascoe Vale South             -2.406909\n",
       "Port Melbourne                 0.927201\n",
       "Port Melbourne Industrial     -1.290091\n",
       "Prahran - Windsor              1.201360\n",
       "Richmond (Vic.)                0.836230\n",
       "South Melbourne                1.838322\n",
       "South Yarra - East             1.249292\n",
       "South Yarra - West             0.823606\n",
       "Southbank                      6.816946\n",
       "St Kilda                       0.652861\n",
       "St Kilda East                 -1.086723\n",
       "Thornbury                     -2.108694\n",
       "Toorak                        -1.939547\n",
       "Yarra - North                 -0.451671"
      ]
     },
     "execution_count": 169,
     "metadata": {},
     "output_type": "execute_result"
    }
   ],
   "source": [
    "avg_sa2"
   ]
  },
  {
   "cell_type": "code",
   "execution_count": 170,
   "metadata": {
    "collapsed": false
   },
   "outputs": [],
   "source": [
    "sframe = pd.read_csv('data/sydcityinnersouthresults.csv')\n",
    "sframe.columns = sframe.columns.str.strip()"
   ]
  },
  {
   "cell_type": "code",
   "execution_count": 171,
   "metadata": {
    "collapsed": false
   },
   "outputs": [],
   "source": [
    "bframe = sframe.drop(['gcc_name11','gcc_code11','sa2_5dig11','sa1_7dig11','sa3_code11','sa4_code11','ste_code11','ste_name11'],axis=1)"
   ]
  },
  {
   "cell_type": "code",
   "execution_count": 172,
   "metadata": {
    "collapsed": false
   },
   "outputs": [
    {
     "name": "stdout",
     "output_type": "stream",
     "text": [
      "SA1s in Melbourne: 1185\n",
      "SA1s in Sydney: 628\n"
     ]
    }
   ],
   "source": [
    "#Counting the SA1s in Melbourne and Sydney\n",
    "print \"SA1s in Melbourne: \"+ str(len(aframe.index))\n",
    "print \"SA1s in Sydney: \"+ str(len(bframe.index))"
   ]
  },
  {
   "cell_type": "code",
   "execution_count": 173,
   "metadata": {
    "collapsed": false
   },
   "outputs": [],
   "source": [
    "#Group by SA2 suburb\n",
    "savg_sa2 = bframe[['sa2_name11','SumZScore']].groupby('sa2_name11').mean()\n",
    "# savg_sa2.reset_index()\n",
    "# savg_sa2.columns = ['SA2 Name','Walkability Index']\n",
    "\n",
    "#Group by SA3 area\n",
    "savg_sa3 = bframe[['sa3_name11','SumZScore']].groupby('sa3_name11').mean()\n",
    "# savg_sa2.reset_index()\n",
    "# savg_sa3.columns = ['SA2 Name','Walkability Index']\n"
   ]
  },
  {
   "cell_type": "code",
   "execution_count": 191,
   "metadata": {
    "collapsed": false
   },
   "outputs": [
    {
     "name": "stdout",
     "output_type": "stream",
     "text": [
      "SA1s in Melbourne: 39\n",
      "SA1s in Sydney: 17\n"
     ]
    }
   ],
   "source": [
    "#Counting the SA1s in Melbourne and Sydney\n",
    "print \"SA1s in Melbourne: \"+ str(len(avg_sa2.index))\n",
    "print \"SA1s in Sydney: \"+ str(len(savg_sa2.index))"
   ]
  },
  {
   "cell_type": "markdown",
   "metadata": {},
   "source": [
    "A look at Sydney's SA2 and SA3 grouping, and average Walkability Scores."
   ]
  },
  {
   "cell_type": "code",
   "execution_count": 174,
   "metadata": {
    "collapsed": false
   },
   "outputs": [
    {
     "data": {
      "text/html": [
       "<div>\n",
       "<table border=\"1\" class=\"dataframe\">\n",
       "  <thead>\n",
       "    <tr style=\"text-align: right;\">\n",
       "      <th></th>\n",
       "      <th>SumZScore</th>\n",
       "    </tr>\n",
       "    <tr>\n",
       "      <th>sa3_name11</th>\n",
       "      <th></th>\n",
       "    </tr>\n",
       "  </thead>\n",
       "  <tbody>\n",
       "    <tr>\n",
       "      <th>Botany</th>\n",
       "      <td>-1.466938</td>\n",
       "    </tr>\n",
       "    <tr>\n",
       "      <th>Marrickville - Sydenham - Petersham</th>\n",
       "      <td>-1.057064</td>\n",
       "    </tr>\n",
       "    <tr>\n",
       "      <th>Sydney Inner City</th>\n",
       "      <td>0.697534</td>\n",
       "    </tr>\n",
       "  </tbody>\n",
       "</table>\n",
       "</div>"
      ],
      "text/plain": [
       "                                     SumZScore\n",
       "sa3_name11                                    \n",
       "Botany                               -1.466938\n",
       "Marrickville - Sydenham - Petersham  -1.057064\n",
       "Sydney Inner City                     0.697534"
      ]
     },
     "execution_count": 174,
     "metadata": {},
     "output_type": "execute_result"
    }
   ],
   "source": [
    "savg_sa3"
   ]
  },
  {
   "cell_type": "code",
   "execution_count": 175,
   "metadata": {
    "collapsed": false
   },
   "outputs": [
    {
     "data": {
      "text/html": [
       "<div>\n",
       "<table border=\"1\" class=\"dataframe\">\n",
       "  <thead>\n",
       "    <tr style=\"text-align: right;\">\n",
       "      <th></th>\n",
       "      <th>SumZScore</th>\n",
       "    </tr>\n",
       "    <tr>\n",
       "      <th>sa2_name11</th>\n",
       "      <th></th>\n",
       "    </tr>\n",
       "  </thead>\n",
       "  <tbody>\n",
       "    <tr>\n",
       "      <th>Banksmeadow</th>\n",
       "      <td>-5.089664</td>\n",
       "    </tr>\n",
       "    <tr>\n",
       "      <th>Botany</th>\n",
       "      <td>-2.020042</td>\n",
       "    </tr>\n",
       "    <tr>\n",
       "      <th>Darlinghurst</th>\n",
       "      <td>2.300351</td>\n",
       "    </tr>\n",
       "    <tr>\n",
       "      <th>Erskineville - Alexandria</th>\n",
       "      <td>-0.070819</td>\n",
       "    </tr>\n",
       "    <tr>\n",
       "      <th>Glebe - Forest Lodge</th>\n",
       "      <td>0.205308</td>\n",
       "    </tr>\n",
       "    <tr>\n",
       "      <th>Marrickville</th>\n",
       "      <td>-1.379702</td>\n",
       "    </tr>\n",
       "    <tr>\n",
       "      <th>Mascot - Eastlakes</th>\n",
       "      <td>-1.152618</td>\n",
       "    </tr>\n",
       "    <tr>\n",
       "      <th>Newtown - Camperdown - Darlington</th>\n",
       "      <td>1.066498</td>\n",
       "    </tr>\n",
       "    <tr>\n",
       "      <th>Pagewood - Hillsdale - Daceyville</th>\n",
       "      <td>-1.419358</td>\n",
       "    </tr>\n",
       "    <tr>\n",
       "      <th>Petersham - Stanmore</th>\n",
       "      <td>-0.930810</td>\n",
       "    </tr>\n",
       "    <tr>\n",
       "      <th>Potts Point - Woolloomooloo</th>\n",
       "      <td>1.295943</td>\n",
       "    </tr>\n",
       "    <tr>\n",
       "      <th>Pyrmont - Ultimo</th>\n",
       "      <td>-0.934770</td>\n",
       "    </tr>\n",
       "    <tr>\n",
       "      <th>Redfern - Chippendale</th>\n",
       "      <td>0.654447</td>\n",
       "    </tr>\n",
       "    <tr>\n",
       "      <th>Surry Hills</th>\n",
       "      <td>1.903201</td>\n",
       "    </tr>\n",
       "    <tr>\n",
       "      <th>Sydenham - Tempe - St Peters</th>\n",
       "      <td>-0.429833</td>\n",
       "    </tr>\n",
       "    <tr>\n",
       "      <th>Sydney - Haymarket - The Rocks</th>\n",
       "      <td>1.403998</td>\n",
       "    </tr>\n",
       "    <tr>\n",
       "      <th>Waterloo - Beaconsfield</th>\n",
       "      <td>-0.727512</td>\n",
       "    </tr>\n",
       "  </tbody>\n",
       "</table>\n",
       "</div>"
      ],
      "text/plain": [
       "                                   SumZScore\n",
       "sa2_name11                                  \n",
       "Banksmeadow                        -5.089664\n",
       "Botany                             -2.020042\n",
       "Darlinghurst                        2.300351\n",
       "Erskineville - Alexandria          -0.070819\n",
       "Glebe - Forest Lodge                0.205308\n",
       "Marrickville                       -1.379702\n",
       "Mascot - Eastlakes                 -1.152618\n",
       "Newtown - Camperdown - Darlington   1.066498\n",
       "Pagewood - Hillsdale - Daceyville  -1.419358\n",
       "Petersham - Stanmore               -0.930810\n",
       "Potts Point - Woolloomooloo         1.295943\n",
       "Pyrmont - Ultimo                   -0.934770\n",
       "Redfern - Chippendale               0.654447\n",
       "Surry Hills                         1.903201\n",
       "Sydenham - Tempe - St Peters       -0.429833\n",
       "Sydney - Haymarket - The Rocks      1.403998\n",
       "Waterloo - Beaconsfield            -0.727512"
      ]
     },
     "execution_count": 175,
     "metadata": {},
     "output_type": "execute_result"
    }
   ],
   "source": [
    "savg_sa2"
   ]
  },
  {
   "cell_type": "code",
   "execution_count": 176,
   "metadata": {
    "collapsed": false
   },
   "outputs": [
    {
     "data": {
      "image/png": "[encoded data removed]",
      "text/plain": [
       "<matplotlib.figure.Figure at 0x11296e750>"
      ]
     },
     "metadata": {},
     "output_type": "display_data"
    }
   ],
   "source": [
    "#Top 5 SA2 suburbs Melbourne\n",
    "top_sa2_melb = avg_sa2.sort_values('SumZScore',ascending=False).head(5).plot(kind='bar',figsize=(8,6))\n",
    "\n",
    "top_sa2_melb.set_ylabel('Walkability Index') #Setting the Y label\n",
    "top_sa2_melb.set_xlabel('SA2 Suburb') #Setting the X label\n",
    "top_sa2_melb.legend(['Walkability Index'])\n",
    "fig_top_sa2_melb = top_sa2_melb.get_figure() #Assigning the figure to a new variable for further operations\n",
    "fig_top_sa2_melb.tight_layout() #To fit everything in the saved image\n",
    "fig_top_sa2_melb.subplots_adjust(top=0.93)\n",
    "fig_top_sa2_melb.suptitle('Top 5 Melbourne SA2 Suburbs based on Walkability',fontsize=15,fontweight='bold') #Title for the figure\n",
    "fig_top_sa2_melb.savefig(\"figures/top_5_melbourne_sa2.png\") "
   ]
  },
  {
   "cell_type": "markdown",
   "metadata": {},
   "source": [
    "We can see from the plot above that the suburb 'Southbank', has twice the walkability score of the next highest suburb 'Melbourne'. So it might be possible that it impacts our comparison later."
   ]
  },
  {
   "cell_type": "code",
   "execution_count": 177,
   "metadata": {
    "collapsed": false
   },
   "outputs": [
    {
     "data": {
      "image/png": "[encoded data removed]",
      "text/plain": [
       "<matplotlib.figure.Figure at 0x1146676d0>"
      ]
     },
     "metadata": {},
     "output_type": "display_data"
    }
   ],
   "source": [
    "#Top 5 Suburbs Sydney\n",
    "top_sa2_syd = savg_sa2.sort_values('SumZScore',ascending=False).head(5).plot(kind='bar',figsize=(8,8))\n",
    "\n",
    "\n",
    "top_sa2_syd.set_ylabel('Walkability Index') #Setting the Y label\n",
    "top_sa2_syd.set_xlabel('SA2 Suburb') #Setting the X label\n",
    "top_sa2_syd.legend(['Walkability Index'])\n",
    "fig_top_sa2_syd = top_sa2_syd.get_figure() #Assigning the figure to a new variable for further operations\n",
    "fig_top_sa2_syd.tight_layout() #To fit everything in the saved image\n",
    "fig_top_sa2_syd.subplots_adjust(top=0.93)\n",
    "fig_top_sa2_syd.suptitle('Top 5 Sydney SA2 Suburbs based on Walkability',fontsize=15,fontweight='bold') #Title for the figure\n",
    "fig_top_sa2_syd.savefig(\"figures/top_5_sydney_sa2.png\") "
   ]
  },
  {
   "cell_type": "code",
   "execution_count": 178,
   "metadata": {
    "collapsed": false
   },
   "outputs": [
    {
     "data": {
      "image/png": "[encoded data removed]",
      "text/plain": [
       "<matplotlib.figure.Figure at 0x113babfd0>"
      ]
     },
     "metadata": {},
     "output_type": "display_data"
    }
   ],
   "source": [
    "#Least 5 Suburbs Melbourne\n",
    "bot_sa2_melb = avg_sa2.sort_values('SumZScore',ascending=True).head(5).plot(kind='bar',figsize=(8,6))\n",
    "\n",
    "bot_sa2_melb.set_ylabel('Walkability Index') #Setting the Y label\n",
    "bot_sa2_melb.set_xlabel('SA2 Suburb') #Setting the X label\n",
    "bot_sa2_melb.legend(['Walkability Index'],loc=4)\n",
    "fig_bot_sa2_melb = bot_sa2_melb.get_figure() #Assigning the figure to a new variable for further operations\n",
    "fig_bot_sa2_melb.tight_layout() #To fit everything in the saved image\n",
    "fig_bot_sa2_melb.subplots_adjust(top=0.93)\n",
    "fig_bot_sa2_melb.suptitle('Bottom 5 Melbourne SA2 Suburbs based on Walkability',fontsize=15,fontweight='bold') #Title for the figure\n",
    "fig_bot_sa2_melb.savefig(\"figures/bottom_5_melbourne_sa2.png\")"
   ]
  },
  {
   "cell_type": "code",
   "execution_count": 193,
   "metadata": {
    "collapsed": false
   },
   "outputs": [
    {
     "data": {
      "image/png": "[encoded data removed]",
      "text/plain": [
       "<matplotlib.figure.Figure at 0x1079c1dd0>"
      ]
     },
     "metadata": {},
     "output_type": "display_data"
    }
   ],
   "source": [
    "bot_sa2_syd = savg_sa2.sort_values('SumZScore').head(5).plot(kind='bar',figsize=(8,6))\n",
    "\n",
    "bot_sa2_syd.set_ylabel('Walkability Index') #Setting the Y label\n",
    "bot_sa2_syd.set_xlabel('SA2 Suburb') #Setting the X label\n",
    "bot_sa2_syd.legend(['Walkability Index'],loc=4)\n",
    "fig_bot_sa2_syd = bot_sa2_syd.get_figure() #Assigning the figure to a new variable for further operations\n",
    "fig_bot_sa2_syd.tight_layout() #To fit everything in the saved image\n",
    "fig_bot_sa2_syd.subplots_adjust(top=0.93)\n",
    "fig_bot_sa2_syd.suptitle('Bottom 5 Sydney SA2 Suburbs based on Walkability',fontsize=15,fontweight='bold') #Title for the figure\n",
    "fig_bot_sa2_syd.savefig(\"figures/bottom_5_sydney_sa2.png\")"
   ]
  },
  {
   "cell_type": "markdown",
   "metadata": {},
   "source": [
    "We can see from the above bar plot, that Sydney has somewhat of an 'anti Southbank'. The SA2 suburb, Banksmeadow has a twice as low walkability score than the next worse suburb, Botany."
   ]
  },
  {
   "cell_type": "code",
   "execution_count": 180,
   "metadata": {
    "collapsed": false
   },
   "outputs": [
    {
     "data": {
      "text/html": [
       "<div>\n",
       "<table border=\"1\" class=\"dataframe\">\n",
       "  <thead>\n",
       "    <tr style=\"text-align: right;\">\n",
       "      <th></th>\n",
       "      <th>SumZScore</th>\n",
       "    </tr>\n",
       "    <tr>\n",
       "      <th>sa4_name11</th>\n",
       "      <th></th>\n",
       "    </tr>\n",
       "  </thead>\n",
       "  <tbody>\n",
       "    <tr>\n",
       "      <th>Melbourne - Inner</th>\n",
       "      <td>-0.000008</td>\n",
       "    </tr>\n",
       "  </tbody>\n",
       "</table>\n",
       "</div>"
      ],
      "text/plain": [
       "                   SumZScore\n",
       "sa4_name11                  \n",
       "Melbourne - Inner  -0.000008"
      ]
     },
     "execution_count": 180,
     "metadata": {},
     "output_type": "execute_result"
    }
   ],
   "source": [
    "#Calculating the average walkabiity score for Inner Melbourne\n",
    "avg_sa4 = aframe[['sa4_name11','SumZScore']].round(2).groupby('sa4_name11').mean()\n",
    "avg_sa4"
   ]
  },
  {
   "cell_type": "code",
   "execution_count": 181,
   "metadata": {
    "collapsed": false
   },
   "outputs": [
    {
     "data": {
      "text/html": [
       "<div>\n",
       "<table border=\"1\" class=\"dataframe\">\n",
       "  <thead>\n",
       "    <tr style=\"text-align: right;\">\n",
       "      <th></th>\n",
       "      <th>SumZScore</th>\n",
       "    </tr>\n",
       "    <tr>\n",
       "      <th>sa4_name11</th>\n",
       "      <th></th>\n",
       "    </tr>\n",
       "  </thead>\n",
       "  <tbody>\n",
       "    <tr>\n",
       "      <th>Sydney - City and Inner South</th>\n",
       "      <td>-0.000127</td>\n",
       "    </tr>\n",
       "  </tbody>\n",
       "</table>\n",
       "</div>"
      ],
      "text/plain": [
       "                               SumZScore\n",
       "sa4_name11                              \n",
       "Sydney - City and Inner South  -0.000127"
      ]
     },
     "execution_count": 181,
     "metadata": {},
     "output_type": "execute_result"
    }
   ],
   "source": [
    "#Calculating the average walkability score for Sydney City and Inner South\n",
    "savg_sa4 = bframe[['sa4_name11','SumZScore']].round(2).groupby('sa4_name11').mean()\n",
    "savg_sa4"
   ]
  },
  {
   "cell_type": "markdown",
   "metadata": {},
   "source": [
    "The above walkability scores are a bit unintitive to analyse, so let's plot them on a figure."
   ]
  },
  {
   "cell_type": "code",
   "execution_count": 182,
   "metadata": {
    "collapsed": false
   },
   "outputs": [
    {
     "data": {
      "image/png": "[encoded data removed]",
      "text/plain": [
       "<matplotlib.figure.Figure at 0x114060890>"
      ]
     },
     "metadata": {},
     "output_type": "display_data"
    }
   ],
   "source": [
    "melb_syd_avg_sa4_fig = pd.concat([avg_sa4,savg_sa4]).plot(kind='bar',figsize=(6,7))\n",
    "\n",
    "melb_syd_avg_sa4_fig.set_ylabel('Walkability Index') #Setting the Y label\n",
    "melb_syd_avg_sa4_fig.set_xlabel('SA4 Region') #Setting the X label\n",
    "melb_syd_avg_sa4_fig.legend(['Walkability Index'],loc=1)\n",
    "fig_melb_syd_avg_sa4 = melb_syd_avg_sa4_fig.get_figure() #Assigning the figure to a new variable for further operations\n",
    "fig_melb_syd_avg_sa4.tight_layout() #To fit everything in the saved image\n",
    "fig_melb_syd_avg_sa4.subplots_adjust(top=0.93)\n",
    "fig_melb_syd_avg_sa4.suptitle('Comparison of SA4 Regions - Mean',fontsize=15,fontweight='bold') #Title for the figure\n",
    "fig_melb_syd_avg_sa4.savefig(\"figures/melb_syd_avg_sa4.png\")"
   ]
  },
  {
   "cell_type": "markdown",
   "metadata": {},
   "source": [
    "We can see the Melbourne has somewhat, if not substantially, better walkability than Sydney. But is that really true? \n",
    "\n",
    "We noticed that while Melbourne has 'Southbank', an SA2 with almost twice the walkability index of the second top suburb, 'Melbourne City', Sydney has its own 'anti-Southbank' with 'Banksmeadow', a dockland area with walkability more than twice worse off than the next worst SA2.\n",
    "\n",
    "So what if we represented the aggregate walkability using medians, rather than averages?"
   ]
  },
  {
   "cell_type": "code",
   "execution_count": 183,
   "metadata": {
    "collapsed": false
   },
   "outputs": [
    {
     "data": {
      "text/html": [
       "<div>\n",
       "<table border=\"1\" class=\"dataframe\">\n",
       "  <thead>\n",
       "    <tr style=\"text-align: right;\">\n",
       "      <th></th>\n",
       "      <th>SumZScore</th>\n",
       "    </tr>\n",
       "    <tr>\n",
       "      <th>sa4_name11</th>\n",
       "      <th></th>\n",
       "    </tr>\n",
       "  </thead>\n",
       "  <tbody>\n",
       "    <tr>\n",
       "      <th>Melbourne - Inner</th>\n",
       "      <td>-0.28</td>\n",
       "    </tr>\n",
       "  </tbody>\n",
       "</table>\n",
       "</div>"
      ],
      "text/plain": [
       "                   SumZScore\n",
       "sa4_name11                  \n",
       "Melbourne - Inner      -0.28"
      ]
     },
     "execution_count": 183,
     "metadata": {},
     "output_type": "execute_result"
    }
   ],
   "source": [
    "median_sa4 = aframe[['sa4_name11','SumZScore']].round(2).groupby('sa4_name11').median()\n",
    "median_sa4"
   ]
  },
  {
   "cell_type": "code",
   "execution_count": 184,
   "metadata": {
    "collapsed": false,
    "scrolled": true
   },
   "outputs": [
    {
     "data": {
      "text/html": [
       "<div>\n",
       "<table border=\"1\" class=\"dataframe\">\n",
       "  <thead>\n",
       "    <tr style=\"text-align: right;\">\n",
       "      <th></th>\n",
       "      <th>SumZScore</th>\n",
       "    </tr>\n",
       "    <tr>\n",
       "      <th>sa4_name11</th>\n",
       "      <th></th>\n",
       "    </tr>\n",
       "  </thead>\n",
       "  <tbody>\n",
       "    <tr>\n",
       "      <th>Sydney - City and Inner South</th>\n",
       "      <td>-0.205</td>\n",
       "    </tr>\n",
       "  </tbody>\n",
       "</table>\n",
       "</div>"
      ],
      "text/plain": [
       "                               SumZScore\n",
       "sa4_name11                              \n",
       "Sydney - City and Inner South     -0.205"
      ]
     },
     "execution_count": 184,
     "metadata": {},
     "output_type": "execute_result"
    }
   ],
   "source": [
    "smedian_sa4 = bframe[['sa4_name11','SumZScore']].round(2).groupby('sa4_name11').median()\n",
    "smedian_sa4"
   ]
  },
  {
   "cell_type": "markdown",
   "metadata": {},
   "source": [
    "We can already see that Sydney peforms a bit better than Melbourne, but let's plot it on a figure anyways."
   ]
  },
  {
   "cell_type": "code",
   "execution_count": 185,
   "metadata": {
    "collapsed": false
   },
   "outputs": [
    {
     "data": {
      "image/png": "[encoded data removed]",
      "text/plain": [
       "<matplotlib.figure.Figure at 0x112c9cb50>"
      ]
     },
     "metadata": {},
     "output_type": "display_data"
    }
   ],
   "source": [
    "melb_syd_median_sa4_fig = pd.concat([median_sa4,smedian_sa4]).plot(kind='bar',figsize=(8,6))\n",
    "\n",
    "melb_syd_median_sa4_fig.set_ylabel('Walkability Index') #Setting the Y label\n",
    "melb_syd_median_sa4_fig.set_xlabel('SA4 Region') #Setting the X label\n",
    "melb_syd_median_sa4_fig.legend(['Walkability Index'],loc=1)\n",
    "fig_melb_syd_median_sa4 = melb_syd_median_sa4_fig.get_figure() #Assigning the figure to a new variable for further operations\n",
    "fig_melb_syd_median_sa4.tight_layout() #To fit everything in the saved image\n",
    "fig_melb_syd_median_sa4.subplots_adjust(top=0.93)\n",
    "fig_melb_syd_median_sa4.suptitle('Comparison of SA4 Regions - Median',fontsize=15,fontweight='bold') #Title for the figure\n",
    "fig_melb_syd_median_sa4.savefig(\"figures/melb_syd_median_sa4.png\")"
   ]
  },
  {
   "cell_type": "markdown",
   "metadata": {},
   "source": [
    "Now we see that Sydney has a better median walkability than Melbourne. It's possible that the median is a better metric to compare the two cities, as it is not affected by outliers.\n",
    "\n",
    "So, as some extra analysis, why don't we take out both Southbank and Bankstown, the two outliers in the Melbourne and Sydney datasets, and calculate the mean again."
   ]
  },
  {
   "cell_type": "code",
   "execution_count": 186,
   "metadata": {
    "collapsed": false
   },
   "outputs": [],
   "source": [
    "aframe_no_southbank = aframe[aframe.sa2_name11 != 'Southbank']\n",
    "bframe_no_banksmeadow = bframe[bframe.sa2_name11 != 'Banksmeadow']"
   ]
  },
  {
   "cell_type": "markdown",
   "metadata": {},
   "source": [
    "Now to calculate average walkabilities of the two cities."
   ]
  },
  {
   "cell_type": "code",
   "execution_count": 187,
   "metadata": {
    "collapsed": false
   },
   "outputs": [
    {
     "data": {
      "text/html": [
       "<div>\n",
       "<table border=\"1\" class=\"dataframe\">\n",
       "  <thead>\n",
       "    <tr style=\"text-align: right;\">\n",
       "      <th></th>\n",
       "      <th>SumZScore</th>\n",
       "    </tr>\n",
       "    <tr>\n",
       "      <th>sa4_name11</th>\n",
       "      <th></th>\n",
       "    </tr>\n",
       "  </thead>\n",
       "  <tbody>\n",
       "    <tr>\n",
       "      <th>Melbourne - Inner</th>\n",
       "      <td>-0.164996</td>\n",
       "    </tr>\n",
       "  </tbody>\n",
       "</table>\n",
       "</div>"
      ],
      "text/plain": [
       "                   SumZScore\n",
       "sa4_name11                  \n",
       "Melbourne - Inner  -0.164996"
      ]
     },
     "execution_count": 187,
     "metadata": {},
     "output_type": "execute_result"
    }
   ],
   "source": [
    "avg_sa4_no_south = aframe_no_southbank[['sa4_name11','SumZScore']].round(2).groupby('sa4_name11').mean()\n",
    "avg_sa4_no_south"
   ]
  },
  {
   "cell_type": "code",
   "execution_count": 188,
   "metadata": {
    "collapsed": false
   },
   "outputs": [
    {
     "data": {
      "text/html": [
       "<div>\n",
       "<table border=\"1\" class=\"dataframe\">\n",
       "  <thead>\n",
       "    <tr style=\"text-align: right;\">\n",
       "      <th></th>\n",
       "      <th>SumZScore</th>\n",
       "    </tr>\n",
       "    <tr>\n",
       "      <th>sa4_name11</th>\n",
       "      <th></th>\n",
       "    </tr>\n",
       "  </thead>\n",
       "  <tbody>\n",
       "    <tr>\n",
       "      <th>Sydney - City and Inner South</th>\n",
       "      <td>0.00799</td>\n",
       "    </tr>\n",
       "  </tbody>\n",
       "</table>\n",
       "</div>"
      ],
      "text/plain": [
       "                               SumZScore\n",
       "sa4_name11                              \n",
       "Sydney - City and Inner South    0.00799"
      ]
     },
     "execution_count": 188,
     "metadata": {},
     "output_type": "execute_result"
    }
   ],
   "source": [
    "savg_sa4_no_banks = bframe_no_banksmeadow[['sa4_name11','SumZScore']].round(2).groupby('sa4_name11').mean()\n",
    "savg_sa4_no_banks"
   ]
  },
  {
   "cell_type": "code",
   "execution_count": 189,
   "metadata": {
    "collapsed": false
   },
   "outputs": [
    {
     "data": {
      "image/png": "[encoded data removed]",
      "text/plain": [
       "<matplotlib.figure.Figure at 0x112b71b90>"
      ]
     },
     "metadata": {},
     "output_type": "display_data"
    }
   ],
   "source": [
    "melb_syd_avg_sa4_no_fig = pd.concat([avg_sa4_no_south,savg_sa4_no_banks]).plot(kind='bar',figsize=(8,6))\n",
    "\n",
    "melb_syd_avg_sa4_no_fig.set_ylabel('Walkability Index') #Setting the Y label\n",
    "melb_syd_avg_sa4_no_fig.set_xlabel('SA4 Region') #Setting the X label\n",
    "melb_syd_avg_sa4_no_fig.legend(['Walkability Index'],loc=1)\n",
    "fig_melb_syd_avg_sa4_no = melb_syd_avg_sa4_no_fig.get_figure() #Assigning the figure to a new variable for further operations\n",
    "fig_melb_syd_avg_sa4_no.tight_layout() #To fit everything in the saved image\n",
    "fig_melb_syd_avg_sa4_no.subplots_adjust(top=0.93)\n",
    "fig_melb_syd_avg_sa4_no.suptitle('Comparison of SA4 Regions - Mean | Without outliers',fontsize=15,fontweight='bold') #Title for the figure\n",
    "fig_melb_syd_avg_sa4_no.savefig(\"figures/melb_syd_avg_sa4_no_outliers.png\")"
   ]
  },
  {
   "cell_type": "markdown",
   "metadata": {},
   "source": [
    "We can check out how important 'Southbank' and 'Banksmeadow' are to Melbourne or Sydney's Walkability by taking the absolute difference of the means with and without those outliers."
   ]
  },
  {
   "cell_type": "code",
   "execution_count": 190,
   "metadata": {
    "collapsed": false
   },
   "outputs": [
    {
     "name": "stdout",
     "output_type": "stream",
     "text": [
      "                   SumZScore\n",
      "sa4_name11                  \n",
      "Melbourne - Inner  -0.000008\n",
      "                               SumZScore\n",
      "sa4_name11                              \n",
      "Sydney - City and Inner South  -0.000127\n",
      "                   SumZScore\n",
      "sa4_name11                  \n",
      "Melbourne - Inner  -0.164996\n",
      "                               SumZScore\n",
      "sa4_name11                              \n",
      "Sydney - City and Inner South    0.00799\n",
      "\n",
      "\n",
      "\n",
      "Differences\n",
      "                   SumZScore\n",
      "sa4_name11                  \n",
      "Melbourne - Inner   0.164987\n",
      "                               SumZScore\n",
      "sa4_name11                              \n",
      "Sydney - City and Inner South   0.008118\n"
     ]
    }
   ],
   "source": [
    "#All means\n",
    "print avg_sa4 \n",
    "print savg_sa4\n",
    "print avg_sa4_no_south\n",
    "print savg_sa4_no_banks\n",
    "print \"\\n\\n\"\n",
    "print \"Differences\"\n",
    "\n",
    "print abs(avg_sa4 - avg_sa4_no_south)\n",
    "print abs(savg_sa4 - savg_sa4_no_banks)"
   ]
  }
 ],
 "metadata": {
  "kernelspec": {
   "display_name": "Python 2",
   "language": "python",
   "name": "python2"
  },
  "language_info": {
   "codemirror_mode": {
    "name": "ipython",
    "version": 2
   },
   "file_extension": ".py",
   "mimetype": "text/x-python",
   "name": "python",
   "nbconvert_exporter": "python",
   "pygments_lexer": "ipython2",
   "version": "2.7.10"
  }
 },
 "nbformat": 4,
 "nbformat_minor": 0
}
