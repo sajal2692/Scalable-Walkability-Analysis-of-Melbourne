{
 "cells": [
  {
   "cell_type": "code",
   "execution_count": 49,
   "metadata": {
    "collapsed": false
   },
   "outputs": [],
   "source": [
    "import numpy as np\n",
    "import pandas as pd\n",
    "from pandas import Series,DataFrame\n",
    "\n",
    "%matplotlib inline"
   ]
  },
  {
   "cell_type": "code",
   "execution_count": 50,
   "metadata": {
    "collapsed": true
   },
   "outputs": [],
   "source": [
    "dframe = pd.read_csv('innermelbourne.csv')\n",
    "dframe.columns = dframe.columns.str.strip()"
   ]
  },
  {
   "cell_type": "code",
   "execution_count": 51,
   "metadata": {
    "collapsed": false
   },
   "outputs": [],
   "source": [
    "#Dropping columns deemed irrelevant\n",
    "aframe = dframe.drop(['gcc_name11','gcc_code11','sa2_5dig11','sa1_7dig11','sa3_code11','sa4_code11','ste_code11','ste_name11'],axis=1)"
   ]
  },
  {
   "cell_type": "code",
   "execution_count": 52,
   "metadata": {
    "collapsed": false
   },
   "outputs": [],
   "source": [
    "# aframe"
   ]
  },
  {
   "cell_type": "code",
   "execution_count": 5,
   "metadata": {
    "collapsed": false
   },
   "outputs": [
    {
     "data": {
      "text/plain": [
       "Index([u'sa1_main11', u'sa2_name11', u'sa3_name11', u'sa4_name11',\n",
       "       u'Connectivity', u'Area', u'Connections', u'LUM_Residential',\n",
       "       u'LUM_Industrial', u'LUM_Commercial', u'LUM_Parkland', u'LUM_Education',\n",
       "       u'LandUseMixMeasure', u'AverageDensity', u'Connectivity_ZScore',\n",
       "       u'AverageDensity_ZScore', u'LandUseMixMeasure_ZScore', u'SumZScore'],\n",
       "      dtype='object')"
      ]
     },
     "execution_count": 5,
     "metadata": {},
     "output_type": "execute_result"
    }
   ],
   "source": [
    "aframe.columns"
   ]
  },
  {
   "cell_type": "code",
   "execution_count": 29,
   "metadata": {
    "collapsed": false
   },
   "outputs": [],
   "source": [
    "#Group by SA2 suburb\n",
    "avg_sa2 = aframe[['sa2_name11','SumZScore']].groupby('sa2_name11').mean()\n",
    "\n",
    "#Group by SA3 area\n",
    "avg_sa3 = aframe[['sa3_name11','SumZScore']].groupby('sa3_name11').mean()"
   ]
  },
  {
   "cell_type": "code",
   "execution_count": 32,
   "metadata": {
    "collapsed": false
   },
   "outputs": [
    {
     "data": {
      "text/html": [
       "<div>\n",
       "<table border=\"1\" class=\"dataframe\">\n",
       "  <thead>\n",
       "    <tr style=\"text-align: right;\">\n",
       "      <th></th>\n",
       "      <th>SumZScore</th>\n",
       "    </tr>\n",
       "    <tr>\n",
       "      <th>sa2_name11</th>\n",
       "      <th></th>\n",
       "    </tr>\n",
       "  </thead>\n",
       "  <tbody>\n",
       "    <tr>\n",
       "      <th>Pascoe Vale South</th>\n",
       "      <td>-2.406909</td>\n",
       "    </tr>\n",
       "    <tr>\n",
       "      <th>Thornbury</th>\n",
       "      <td>-2.108694</td>\n",
       "    </tr>\n",
       "    <tr>\n",
       "      <th>Alphington - Fairfield</th>\n",
       "      <td>-2.055192</td>\n",
       "    </tr>\n",
       "    <tr>\n",
       "      <th>Essendon - Aberfeldie</th>\n",
       "      <td>-2.004841</td>\n",
       "    </tr>\n",
       "    <tr>\n",
       "      <th>Toorak</th>\n",
       "      <td>-1.939547</td>\n",
       "    </tr>\n",
       "    <tr>\n",
       "      <th>Coburg</th>\n",
       "      <td>-1.852370</td>\n",
       "    </tr>\n",
       "    <tr>\n",
       "      <th>Brunswick West</th>\n",
       "      <td>-1.725236</td>\n",
       "    </tr>\n",
       "    <tr>\n",
       "      <th>Moonee Ponds</th>\n",
       "      <td>-1.473731</td>\n",
       "    </tr>\n",
       "    <tr>\n",
       "      <th>Ascot Vale</th>\n",
       "      <td>-1.463378</td>\n",
       "    </tr>\n",
       "    <tr>\n",
       "      <th>Port Melbourne Industrial</th>\n",
       "      <td>-1.290091</td>\n",
       "    </tr>\n",
       "    <tr>\n",
       "      <th>Northcote</th>\n",
       "      <td>-1.240260</td>\n",
       "    </tr>\n",
       "    <tr>\n",
       "      <th>St Kilda East</th>\n",
       "      <td>-1.086723</td>\n",
       "    </tr>\n",
       "    <tr>\n",
       "      <th>Armadale</th>\n",
       "      <td>-1.016522</td>\n",
       "    </tr>\n",
       "    <tr>\n",
       "      <th>Carlton North - Princes Hill</th>\n",
       "      <td>-0.955973</td>\n",
       "    </tr>\n",
       "    <tr>\n",
       "      <th>Brunswick</th>\n",
       "      <td>-0.680594</td>\n",
       "    </tr>\n",
       "    <tr>\n",
       "      <th>Elwood</th>\n",
       "      <td>-0.626253</td>\n",
       "    </tr>\n",
       "    <tr>\n",
       "      <th>Yarra - North</th>\n",
       "      <td>-0.451671</td>\n",
       "    </tr>\n",
       "    <tr>\n",
       "      <th>Brunswick East</th>\n",
       "      <td>-0.417797</td>\n",
       "    </tr>\n",
       "    <tr>\n",
       "      <th>Flemington</th>\n",
       "      <td>-0.136415</td>\n",
       "    </tr>\n",
       "    <tr>\n",
       "      <th>Fitzroy North</th>\n",
       "      <td>0.204232</td>\n",
       "    </tr>\n",
       "    <tr>\n",
       "      <th>Albert Park</th>\n",
       "      <td>0.425471</td>\n",
       "    </tr>\n",
       "    <tr>\n",
       "      <th>St Kilda</th>\n",
       "      <td>0.652861</td>\n",
       "    </tr>\n",
       "    <tr>\n",
       "      <th>Parkville</th>\n",
       "      <td>0.655882</td>\n",
       "    </tr>\n",
       "    <tr>\n",
       "      <th>South Yarra - West</th>\n",
       "      <td>0.823606</td>\n",
       "    </tr>\n",
       "    <tr>\n",
       "      <th>Richmond (Vic.)</th>\n",
       "      <td>0.836230</td>\n",
       "    </tr>\n",
       "    <tr>\n",
       "      <th>Abbotsford</th>\n",
       "      <td>0.847583</td>\n",
       "    </tr>\n",
       "    <tr>\n",
       "      <th>Port Melbourne</th>\n",
       "      <td>0.927201</td>\n",
       "    </tr>\n",
       "    <tr>\n",
       "      <th>East Melbourne</th>\n",
       "      <td>0.954821</td>\n",
       "    </tr>\n",
       "    <tr>\n",
       "      <th>Collingwood</th>\n",
       "      <td>1.015557</td>\n",
       "    </tr>\n",
       "    <tr>\n",
       "      <th>Kensington</th>\n",
       "      <td>1.062515</td>\n",
       "    </tr>\n",
       "    <tr>\n",
       "      <th>Docklands</th>\n",
       "      <td>1.168116</td>\n",
       "    </tr>\n",
       "    <tr>\n",
       "      <th>Prahran - Windsor</th>\n",
       "      <td>1.201360</td>\n",
       "    </tr>\n",
       "    <tr>\n",
       "      <th>South Yarra - East</th>\n",
       "      <td>1.249292</td>\n",
       "    </tr>\n",
       "    <tr>\n",
       "      <th>Fitzroy</th>\n",
       "      <td>1.344740</td>\n",
       "    </tr>\n",
       "    <tr>\n",
       "      <th>North Melbourne</th>\n",
       "      <td>1.697015</td>\n",
       "    </tr>\n",
       "    <tr>\n",
       "      <th>South Melbourne</th>\n",
       "      <td>1.838322</td>\n",
       "    </tr>\n",
       "    <tr>\n",
       "      <th>Carlton</th>\n",
       "      <td>2.698953</td>\n",
       "    </tr>\n",
       "    <tr>\n",
       "      <th>Melbourne</th>\n",
       "      <td>3.547425</td>\n",
       "    </tr>\n",
       "    <tr>\n",
       "      <th>Southbank</th>\n",
       "      <td>6.816946</td>\n",
       "    </tr>\n",
       "  </tbody>\n",
       "</table>\n",
       "</div>"
      ],
      "text/plain": [
       "                              SumZScore\n",
       "sa2_name11                             \n",
       "Pascoe Vale South             -2.406909\n",
       "Thornbury                     -2.108694\n",
       "Alphington - Fairfield        -2.055192\n",
       "Essendon - Aberfeldie         -2.004841\n",
       "Toorak                        -1.939547\n",
       "Coburg                        -1.852370\n",
       "Brunswick West                -1.725236\n",
       "Moonee Ponds                  -1.473731\n",
       "Ascot Vale                    -1.463378\n",
       "Port Melbourne Industrial     -1.290091\n",
       "Northcote                     -1.240260\n",
       "St Kilda East                 -1.086723\n",
       "Armadale                      -1.016522\n",
       "Carlton North - Princes Hill  -0.955973\n",
       "Brunswick                     -0.680594\n",
       "Elwood                        -0.626253\n",
       "Yarra - North                 -0.451671\n",
       "Brunswick East                -0.417797\n",
       "Flemington                    -0.136415\n",
       "Fitzroy North                  0.204232\n",
       "Albert Park                    0.425471\n",
       "St Kilda                       0.652861\n",
       "Parkville                      0.655882\n",
       "South Yarra - West             0.823606\n",
       "Richmond (Vic.)                0.836230\n",
       "Abbotsford                     0.847583\n",
       "Port Melbourne                 0.927201\n",
       "East Melbourne                 0.954821\n",
       "Collingwood                    1.015557\n",
       "Kensington                     1.062515\n",
       "Docklands                      1.168116\n",
       "Prahran - Windsor              1.201360\n",
       "South Yarra - East             1.249292\n",
       "Fitzroy                        1.344740\n",
       "North Melbourne                1.697015\n",
       "South Melbourne                1.838322\n",
       "Carlton                        2.698953\n",
       "Melbourne                      3.547425\n",
       "Southbank                      6.816946"
      ]
     },
     "execution_count": 32,
     "metadata": {},
     "output_type": "execute_result"
    }
   ],
   "source": [
    "avg_sa2.sort_values('SumZScore',ascending=True)"
   ]
  },
  {
   "cell_type": "code",
   "execution_count": 33,
   "metadata": {
    "collapsed": false
   },
   "outputs": [
    {
     "data": {
      "text/html": [
       "<div>\n",
       "<table border=\"1\" class=\"dataframe\">\n",
       "  <thead>\n",
       "    <tr style=\"text-align: right;\">\n",
       "      <th></th>\n",
       "      <th>SumZScore</th>\n",
       "    </tr>\n",
       "    <tr>\n",
       "      <th>sa3_name11</th>\n",
       "      <th></th>\n",
       "    </tr>\n",
       "  </thead>\n",
       "  <tbody>\n",
       "    <tr>\n",
       "      <th>Melbourne City</th>\n",
       "      <td>2.551466</td>\n",
       "    </tr>\n",
       "    <tr>\n",
       "      <th>Yarra</th>\n",
       "      <td>0.446783</td>\n",
       "    </tr>\n",
       "    <tr>\n",
       "      <th>Port Phillip</th>\n",
       "      <td>0.256828</td>\n",
       "    </tr>\n",
       "    <tr>\n",
       "      <th>Stonnington - West</th>\n",
       "      <td>0.053694</td>\n",
       "    </tr>\n",
       "    <tr>\n",
       "      <th>Brunswick - Coburg</th>\n",
       "      <td>-1.442297</td>\n",
       "    </tr>\n",
       "    <tr>\n",
       "      <th>Essendon</th>\n",
       "      <td>-1.501010</td>\n",
       "    </tr>\n",
       "    <tr>\n",
       "      <th>Darebin - South</th>\n",
       "      <td>-1.705241</td>\n",
       "    </tr>\n",
       "  </tbody>\n",
       "</table>\n",
       "</div>"
      ],
      "text/plain": [
       "                    SumZScore\n",
       "sa3_name11                   \n",
       "Melbourne City       2.551466\n",
       "Yarra                0.446783\n",
       "Port Phillip         0.256828\n",
       "Stonnington - West   0.053694\n",
       "Brunswick - Coburg  -1.442297\n",
       "Essendon            -1.501010\n",
       "Darebin - South     -1.705241"
      ]
     },
     "execution_count": 33,
     "metadata": {},
     "output_type": "execute_result"
    }
   ],
   "source": [
    "avg_sa3.sort_values('SumZScore',ascending=False)"
   ]
  },
  {
   "cell_type": "code",
   "execution_count": 34,
   "metadata": {
    "collapsed": false
   },
   "outputs": [],
   "source": [
    "sframe = pd.read_csv('sydcityinnersouthresults.csv')\n",
    "sframe.columns = sframe.columns.str.strip()"
   ]
  },
  {
   "cell_type": "code",
   "execution_count": 35,
   "metadata": {
    "collapsed": false
   },
   "outputs": [],
   "source": [
    "bframe = sframe.drop(['gcc_name11','gcc_code11','sa2_5dig11','sa1_7dig11','sa3_code11','sa4_code11','ste_code11','ste_name11'],axis=1)"
   ]
  },
  {
   "cell_type": "markdown",
   "metadata": {},
   "source": [
    "Total SA1s in Melbourne: 1185\n",
    "\n",
    "Total SA1s in Sydney: 628"
   ]
  },
  {
   "cell_type": "code",
   "execution_count": 36,
   "metadata": {
    "collapsed": false
   },
   "outputs": [],
   "source": [
    "#Group by SA2 suburb\n",
    "savg_sa2 = bframe[['sa2_name11','SumZScore']].groupby('sa2_name11').mean()\n",
    "# savg_sa2.reset_index()\n",
    "# savg_sa2.columns = ['SA2 Name','Walkability Index']\n",
    "\n",
    "#Group by SA3 area\n",
    "savg_sa3 = bframe[['sa3_name11','SumZScore']].groupby('sa3_name11').mean()\n",
    "# savg_sa2.reset_index()\n",
    "# savg_sa3.columns = ['SA2 Name','Walkability Index']\n"
   ]
  },
  {
   "cell_type": "code",
   "execution_count": 37,
   "metadata": {
    "collapsed": false
   },
   "outputs": [
    {
     "data": {
      "text/html": [
       "<div>\n",
       "<table border=\"1\" class=\"dataframe\">\n",
       "  <thead>\n",
       "    <tr style=\"text-align: right;\">\n",
       "      <th></th>\n",
       "      <th>SumZScore</th>\n",
       "    </tr>\n",
       "    <tr>\n",
       "      <th>sa3_name11</th>\n",
       "      <th></th>\n",
       "    </tr>\n",
       "  </thead>\n",
       "  <tbody>\n",
       "    <tr>\n",
       "      <th>Botany</th>\n",
       "      <td>-1.466938</td>\n",
       "    </tr>\n",
       "    <tr>\n",
       "      <th>Marrickville - Sydenham - Petersham</th>\n",
       "      <td>-1.057064</td>\n",
       "    </tr>\n",
       "    <tr>\n",
       "      <th>Sydney Inner City</th>\n",
       "      <td>0.697534</td>\n",
       "    </tr>\n",
       "  </tbody>\n",
       "</table>\n",
       "</div>"
      ],
      "text/plain": [
       "                                     SumZScore\n",
       "sa3_name11                                    \n",
       "Botany                               -1.466938\n",
       "Marrickville - Sydenham - Petersham  -1.057064\n",
       "Sydney Inner City                     0.697534"
      ]
     },
     "execution_count": 37,
     "metadata": {},
     "output_type": "execute_result"
    }
   ],
   "source": [
    "savg_sa3"
   ]
  },
  {
   "cell_type": "code",
   "execution_count": 38,
   "metadata": {
    "collapsed": false
   },
   "outputs": [
    {
     "data": {
      "text/html": [
       "<div>\n",
       "<table border=\"1\" class=\"dataframe\">\n",
       "  <thead>\n",
       "    <tr style=\"text-align: right;\">\n",
       "      <th></th>\n",
       "      <th>SumZScore</th>\n",
       "    </tr>\n",
       "    <tr>\n",
       "      <th>sa2_name11</th>\n",
       "      <th></th>\n",
       "    </tr>\n",
       "  </thead>\n",
       "  <tbody>\n",
       "    <tr>\n",
       "      <th>Banksmeadow</th>\n",
       "      <td>-5.089664</td>\n",
       "    </tr>\n",
       "    <tr>\n",
       "      <th>Botany</th>\n",
       "      <td>-2.020042</td>\n",
       "    </tr>\n",
       "    <tr>\n",
       "      <th>Darlinghurst</th>\n",
       "      <td>2.300351</td>\n",
       "    </tr>\n",
       "    <tr>\n",
       "      <th>Erskineville - Alexandria</th>\n",
       "      <td>-0.070819</td>\n",
       "    </tr>\n",
       "    <tr>\n",
       "      <th>Glebe - Forest Lodge</th>\n",
       "      <td>0.205308</td>\n",
       "    </tr>\n",
       "    <tr>\n",
       "      <th>Marrickville</th>\n",
       "      <td>-1.379702</td>\n",
       "    </tr>\n",
       "    <tr>\n",
       "      <th>Mascot - Eastlakes</th>\n",
       "      <td>-1.152618</td>\n",
       "    </tr>\n",
       "    <tr>\n",
       "      <th>Newtown - Camperdown - Darlington</th>\n",
       "      <td>1.066498</td>\n",
       "    </tr>\n",
       "    <tr>\n",
       "      <th>Pagewood - Hillsdale - Daceyville</th>\n",
       "      <td>-1.419358</td>\n",
       "    </tr>\n",
       "    <tr>\n",
       "      <th>Petersham - Stanmore</th>\n",
       "      <td>-0.930810</td>\n",
       "    </tr>\n",
       "    <tr>\n",
       "      <th>Potts Point - Woolloomooloo</th>\n",
       "      <td>1.295943</td>\n",
       "    </tr>\n",
       "    <tr>\n",
       "      <th>Pyrmont - Ultimo</th>\n",
       "      <td>-0.934770</td>\n",
       "    </tr>\n",
       "    <tr>\n",
       "      <th>Redfern - Chippendale</th>\n",
       "      <td>0.654447</td>\n",
       "    </tr>\n",
       "    <tr>\n",
       "      <th>Surry Hills</th>\n",
       "      <td>1.903201</td>\n",
       "    </tr>\n",
       "    <tr>\n",
       "      <th>Sydenham - Tempe - St Peters</th>\n",
       "      <td>-0.429833</td>\n",
       "    </tr>\n",
       "    <tr>\n",
       "      <th>Sydney - Haymarket - The Rocks</th>\n",
       "      <td>1.403998</td>\n",
       "    </tr>\n",
       "    <tr>\n",
       "      <th>Waterloo - Beaconsfield</th>\n",
       "      <td>-0.727512</td>\n",
       "    </tr>\n",
       "  </tbody>\n",
       "</table>\n",
       "</div>"
      ],
      "text/plain": [
       "                                   SumZScore\n",
       "sa2_name11                                  \n",
       "Banksmeadow                        -5.089664\n",
       "Botany                             -2.020042\n",
       "Darlinghurst                        2.300351\n",
       "Erskineville - Alexandria          -0.070819\n",
       "Glebe - Forest Lodge                0.205308\n",
       "Marrickville                       -1.379702\n",
       "Mascot - Eastlakes                 -1.152618\n",
       "Newtown - Camperdown - Darlington   1.066498\n",
       "Pagewood - Hillsdale - Daceyville  -1.419358\n",
       "Petersham - Stanmore               -0.930810\n",
       "Potts Point - Woolloomooloo         1.295943\n",
       "Pyrmont - Ultimo                   -0.934770\n",
       "Redfern - Chippendale               0.654447\n",
       "Surry Hills                         1.903201\n",
       "Sydenham - Tempe - St Peters       -0.429833\n",
       "Sydney - Haymarket - The Rocks      1.403998\n",
       "Waterloo - Beaconsfield            -0.727512"
      ]
     },
     "execution_count": 38,
     "metadata": {},
     "output_type": "execute_result"
    }
   ],
   "source": [
    "savg_sa2"
   ]
  },
  {
   "cell_type": "code",
   "execution_count": 42,
   "metadata": {
    "collapsed": false
   },
   "outputs": [
    {
     "data": {
      "text/plain": [
       "<matplotlib.axes._subplots.AxesSubplot at 0x1076535d0>"
      ]
     },
     "execution_count": 42,
     "metadata": {},
     "output_type": "execute_result"
    },
    {
     "data": {
      "image/png": "[encoded data removed]",
      "text/plain": [
       "<matplotlib.figure.Figure at 0x1075fdb10>"
      ]
     },
     "metadata": {},
     "output_type": "display_data"
    }
   ],
   "source": [
    "#Top 5 SA2 suburbs Melbourne\n",
    "avg_sa2.sort_values('SumZScore',ascending=False).head(5).plot(kind='bar',figsize=(8,6))"
   ]
  },
  {
   "cell_type": "markdown",
   "metadata": {},
   "source": [
    "Comments about Southback being a +ve outlier for Melbourne"
   ]
  },
  {
   "cell_type": "code",
   "execution_count": 43,
   "metadata": {
    "collapsed": false
   },
   "outputs": [
    {
     "data": {
      "text/plain": [
       "<matplotlib.axes._subplots.AxesSubplot at 0x1079eae50>"
      ]
     },
     "execution_count": 43,
     "metadata": {},
     "output_type": "execute_result"
    },
    {
     "data": {
      "image/png": "[encoded data removed]",
      "text/plain": [
       "<matplotlib.figure.Figure at 0x1079cce50>"
      ]
     },
     "metadata": {},
     "output_type": "display_data"
    }
   ],
   "source": [
    "#Top 5 Suburbs Sydney\n",
    "savg_sa2.sort_values('SumZScore',ascending=False).head(5).plot(kind='bar',figsize=(8,6))"
   ]
  },
  {
   "cell_type": "code",
   "execution_count": 44,
   "metadata": {
    "collapsed": false
   },
   "outputs": [
    {
     "data": {
      "text/plain": [
       "<matplotlib.axes._subplots.AxesSubplot at 0x107ac01d0>"
      ]
     },
     "execution_count": 44,
     "metadata": {},
     "output_type": "execute_result"
    },
    {
     "data": {
      "image/png": "[encoded data removed]",
      "text/plain": [
       "<matplotlib.figure.Figure at 0x107b55a10>"
      ]
     },
     "metadata": {},
     "output_type": "display_data"
    }
   ],
   "source": [
    "#Least 5 Suburbs Melbourne\n",
    "avg_sa2.sort_values('SumZScore').head(5).plot(kind='bar',figsize=(8,6))"
   ]
  },
  {
   "cell_type": "code",
   "execution_count": 45,
   "metadata": {
    "collapsed": false
   },
   "outputs": [
    {
     "data": {
      "text/plain": [
       "<matplotlib.axes._subplots.AxesSubplot at 0x107b82710>"
      ]
     },
     "execution_count": 45,
     "metadata": {},
     "output_type": "execute_result"
    },
    {
     "data": {
      "image/png": "[encoded data removed]",
      "text/plain": [
       "<matplotlib.figure.Figure at 0x107c1c990>"
      ]
     },
     "metadata": {},
     "output_type": "display_data"
    }
   ],
   "source": [
    "savg_sa2.sort_values('SumZScore').head(5).plot(kind='bar',figsize=(8,6))"
   ]
  },
  {
   "cell_type": "markdown",
   "metadata": {},
   "source": [
    "Comments about Banksmedow being a negative outlier for Sydney."
   ]
  },
  {
   "cell_type": "code",
   "execution_count": 57,
   "metadata": {
    "collapsed": false
   },
   "outputs": [
    {
     "data": {
      "text/html": [
       "<div>\n",
       "<table border=\"1\" class=\"dataframe\">\n",
       "  <thead>\n",
       "    <tr style=\"text-align: right;\">\n",
       "      <th></th>\n",
       "      <th>SumZScore</th>\n",
       "    </tr>\n",
       "    <tr>\n",
       "      <th>sa4_name11</th>\n",
       "      <th></th>\n",
       "    </tr>\n",
       "  </thead>\n",
       "  <tbody>\n",
       "    <tr>\n",
       "      <th>Melbourne - Inner</th>\n",
       "      <td>-0.000008</td>\n",
       "    </tr>\n",
       "  </tbody>\n",
       "</table>\n",
       "</div>"
      ],
      "text/plain": [
       "                   SumZScore\n",
       "sa4_name11                  \n",
       "Melbourne - Inner  -0.000008"
      ]
     },
     "execution_count": 57,
     "metadata": {},
     "output_type": "execute_result"
    }
   ],
   "source": [
    "avg_sa4 = aframe[['sa4_name11','SumZScore']].round(2).groupby('sa4_name11').mean()\n",
    "avg_sa4"
   ]
  },
  {
   "cell_type": "code",
   "execution_count": 58,
   "metadata": {
    "collapsed": false
   },
   "outputs": [
    {
     "data": {
      "text/html": [
       "<div>\n",
       "<table border=\"1\" class=\"dataframe\">\n",
       "  <thead>\n",
       "    <tr style=\"text-align: right;\">\n",
       "      <th></th>\n",
       "      <th>SumZScore</th>\n",
       "    </tr>\n",
       "    <tr>\n",
       "      <th>sa4_name11</th>\n",
       "      <th></th>\n",
       "    </tr>\n",
       "  </thead>\n",
       "  <tbody>\n",
       "    <tr>\n",
       "      <th>Sydney - City and Inner South</th>\n",
       "      <td>-0.000127</td>\n",
       "    </tr>\n",
       "  </tbody>\n",
       "</table>\n",
       "</div>"
      ],
      "text/plain": [
       "                               SumZScore\n",
       "sa4_name11                              \n",
       "Sydney - City and Inner South  -0.000127"
      ]
     },
     "execution_count": 58,
     "metadata": {},
     "output_type": "execute_result"
    }
   ],
   "source": [
    "savg_sa4 = bframe[['sa4_name11','SumZScore']].round(2).groupby('sa4_name11').mean()\n",
    "savg_sa4"
   ]
  },
  {
   "cell_type": "code",
   "execution_count": 59,
   "metadata": {
    "collapsed": false
   },
   "outputs": [
    {
     "data": {
      "image/png": "[encoded data removed]",
      "text/plain": [
       "<matplotlib.figure.Figure at 0x107ea8c50>"
      ]
     },
     "metadata": {},
     "output_type": "display_data"
    }
   ],
   "source": [
    "melb_syd_sa4_fig = pd.concat([avg_sa4,savg_sa4]).plot(kind='bar',figsize=(8,6))"
   ]
  },
  {
   "cell_type": "markdown",
   "metadata": {},
   "source": [
    "We can see the Melbourne has somewhat, if not substantially, better walkability than Sydney. But is that really true? \n",
    "\n",
    "We noticed that while Melbourne has 'Southbank', an SA2 with almost twice the walkability index of the second top suburb, 'Melbourne City', Sydney has its own 'anti-Southbank' with 'Banksmeadow', a dockland area with walkability more than twice worse off than the next worst SA2.\n",
    "\n",
    "So what if we represented the aggregate walkability using medians, rather than averages?"
   ]
  },
  {
   "cell_type": "code",
   "execution_count": 60,
   "metadata": {
    "collapsed": false
   },
   "outputs": [
    {
     "data": {
      "text/html": [
       "<div>\n",
       "<table border=\"1\" class=\"dataframe\">\n",
       "  <thead>\n",
       "    <tr style=\"text-align: right;\">\n",
       "      <th></th>\n",
       "      <th>SumZScore</th>\n",
       "    </tr>\n",
       "    <tr>\n",
       "      <th>sa4_name11</th>\n",
       "      <th></th>\n",
       "    </tr>\n",
       "  </thead>\n",
       "  <tbody>\n",
       "    <tr>\n",
       "      <th>Melbourne - Inner</th>\n",
       "      <td>-0.28</td>\n",
       "    </tr>\n",
       "  </tbody>\n",
       "</table>\n",
       "</div>"
      ],
      "text/plain": [
       "                   SumZScore\n",
       "sa4_name11                  \n",
       "Melbourne - Inner      -0.28"
      ]
     },
     "execution_count": 60,
     "metadata": {},
     "output_type": "execute_result"
    }
   ],
   "source": [
    "median_sa4 = aframe[['sa4_name11','SumZScore']].round(2).groupby('sa4_name11').median()\n",
    "median_sa4"
   ]
  },
  {
   "cell_type": "code",
   "execution_count": null,
   "metadata": {
    "collapsed": true
   },
   "outputs": [],
   "source": [
    "smedian_sa4 = bframe[['sa4_name11','SumZScore']].round(2).groupby('sa4_name11').median()\n",
    "smedian_sa4"
   ]
  }
 ],
 "metadata": {
  "kernelspec": {
   "display_name": "Python 2",
   "language": "python",
   "name": "python2"
  },
  "language_info": {
   "codemirror_mode": {
    "name": "ipython",
    "version": 2
   },
   "file_extension": ".py",
   "mimetype": "text/x-python",
   "name": "python",
   "nbconvert_exporter": "python",
   "pygments_lexer": "ipython2",
   "version": "2.7.10"
  }
 },
 "nbformat": 4,
 "nbformat_minor": 0
}
